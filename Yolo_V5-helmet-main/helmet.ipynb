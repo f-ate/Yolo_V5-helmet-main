{
 "cells": [
  {
   "cell_type": "code",
   "execution_count": null,
   "id": "da259b69",
   "metadata": {},
   "outputs": [],
   "source": [
    "#clone YOLOv5 and \n",
    "#!git clone https://github.com/ultralytics/yolov5  # clone repo\n",
    "%cd yolov5\n",
    "#%pip install -qr requirements.txt # install dependencies\n",
    "#%pip install -q roboflow\n",
    "\n",
    "import torch\n",
    "import os\n",
    "from IPython.display import Image, clear_output  # to display images\n",
    "\n",
    "print(f\"Setup complete. Using torch {torch.__version__} ({torch.cuda.get_device_properties(0).name if torch.cuda.is_available() else 'CPU'})\")\n",
    "!pwd"
   ]
  },
  {
   "cell_type": "code",
   "execution_count": null,
   "id": "31912958",
   "metadata": {},
   "outputs": [],
   "source": [
    "from roboflow import Roboflow\n",
    "rf = Roboflow(model_format=\"yolov5\", notebook=\"ultralytics\")"
   ]
  },
  {
   "cell_type": "code",
   "execution_count": null,
   "id": "672cbce9",
   "metadata": {},
   "outputs": [],
   "source": [
    "!pwd\n"
   ]
  },
  {
   "cell_type": "code",
   "execution_count": null,
   "id": "8685edc9",
   "metadata": {},
   "outputs": [],
   "source": [
    "os.environ[\"DATASET_DIRECTORY\"] = \"/home/aarav/Project_s/Helmet/datasets\""
   ]
  },
  {
   "cell_type": "code",
   "execution_count": null,
   "id": "efc09ddc",
   "metadata": {},
   "outputs": [],
   "source": [
    "!pip install roboflow\n",
    "\n",
    "from roboflow import Roboflow\n",
    "rf = Roboflow(api_key=\"6InaRY5tSUxnPlxhNa1r\")\n",
    "project = rf.workspace().project(\"helmet-ibd35\")\n",
    "dataset = project.version(1).download(\"yolov5\")"
   ]
  },
  {
   "cell_type": "code",
   "execution_count": null,
   "id": "cbb74bb6",
   "metadata": {},
   "outputs": [],
   "source": [
    "!python train.py --img 416 --batch 16 --epochs 150 --data {dataset.location}/data.yaml --weights yolov5s.pt --cache"
   ]
  },
  {
   "cell_type": "code",
   "execution_count": null,
   "id": "d1d736c8",
   "metadata": {},
   "outputs": [],
   "source": [
    "%cd /home/aarav/Project_s/Helmet/yolov5\n",
    "!pwd\n"
   ]
  },
  {
   "cell_type": "code",
   "execution_count": null,
   "id": "67948e09",
   "metadata": {},
   "outputs": [],
   "source": [
    "!python detect.py --weights runs/train/exp/weights/best.pt --img 416 --conf 0.1 --source {dataset.location}/test/images"
   ]
  },
  {
   "cell_type": "code",
   "execution_count": null,
   "id": "b80d7212",
   "metadata": {},
   "outputs": [],
   "source": [
    "!pwd"
   ]
  },
  {
   "cell_type": "code",
   "execution_count": null,
   "id": "8c15be00",
   "metadata": {},
   "outputs": [],
   "source": [
    "#python detect.py --weights yolov5s.pt --img 416 --conf 0.1 --source /home/aarav/Project_s/Helmet/datasets/Helmet-1/test/images\n"
   ]
  },
  {
   "cell_type": "code",
   "execution_count": null,
   "id": "e7569d7f",
   "metadata": {},
   "outputs": [],
   "source": [
    "!python detect.py --weights best.pt --img 416 --conf 0.1 --source 0"
   ]
  },
  {
   "cell_type": "code",
   "execution_count": null,
   "id": "d1a415d6",
   "metadata": {},
   "outputs": [],
   "source": []
  }
 ],
 "metadata": {
  "kernelspec": {
   "display_name": "Python 3",
   "language": "python",
   "name": "python3"
  },
  "language_info": {
   "codemirror_mode": {
    "name": "ipython",
    "version": 3
   },
   "file_extension": ".py",
   "mimetype": "text/x-python",
   "name": "python",
   "nbconvert_exporter": "python",
   "pygments_lexer": "ipython3",
   "version": "3.6.13"
  }
 },
 "nbformat": 4,
 "nbformat_minor": 5
}
